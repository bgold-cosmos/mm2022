{
 "cells": [
  {
   "cell_type": "code",
   "execution_count": 10,
   "id": "9fcd06a2-7e32-4bf4-97ea-0bb5aa774c06",
   "metadata": {},
   "outputs": [
    {
     "data": {
      "text/plain": [
       "<ErrorbarContainer object of 3 artists>"
      ]
     },
     "execution_count": 10,
     "metadata": {},
     "output_type": "execute_result"
    },
    {
     "data": {
      "image/png": "[encoded data removed]",
      "text/plain": [
       "<Figure size 432x288 with 1 Axes>"
      ]
     },
     "metadata": {
      "needs_background": "light"
     },
     "output_type": "display_data"
    }
   ],
   "source": [
    "import numpy as np\n",
    "import matplotlib.pyplot as pp\n",
    "from timeit import default_timer as timer\n",
    "\n",
    "reps = 20\n",
    "nt = 20\n",
    "sizes = np.logspace(1,3,nt)\n",
    "x = np.zeros(nt)\n",
    "y = np.zeros(nt)\n",
    "dy = np.zeros(nt)\n",
    "\n",
    "for j,s in enumerate(sizes):\n",
    "    ts = np.zeros(reps)\n",
    "    size = int(s)\n",
    "    for i in range(reps):\n",
    "        a = np.random.rand(size,size)\n",
    "        b = np.random.rand(size,size)\n",
    "        start = timer()\n",
    "        c = np.matmul(a,b)\n",
    "        end = timer()\n",
    "        ts[i] = end-start\n",
    "    x[j] = size\n",
    "    y[j] = np.mean(ts)\n",
    "    dy[j] = np.std(ts)\n",
    "\n",
    "pp.errorbar(np.log10(x), np.log10(y), np.log10(1.0+dy/y), fmt='gs')"
   ]
  },
  {
   "cell_type": "code",
   "execution_count": null,
   "id": "e340b70d-1ae9-433f-82ba-ecc92f4c7bb5",
   "metadata": {},
   "outputs": [],
   "source": []
  }
 ],
 "metadata": {
  "kernelspec": {
   "display_name": "Python 3 (ipykernel)",
   "language": "python",
   "name": "python3"
  },
  "language_info": {
   "codemirror_mode": {
    "name": "ipython",
    "version": 3
   },
   "file_extension": ".py",
   "mimetype": "text/x-python",
   "name": "python",
   "nbconvert_exporter": "python",
   "pygments_lexer": "ipython3",
   "version": "3.9.10"
  }
 },
 "nbformat": 4,
 "nbformat_minor": 5
}
