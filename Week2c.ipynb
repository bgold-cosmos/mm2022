{
 "cells": [
  {
   "cell_type": "code",
   "execution_count": 1,
   "id": "8896b300-171a-4d98-81f4-e778eaaa97a9",
   "metadata": {},
   "outputs": [],
   "source": [
    "import numpy as np\n",
    "import matplotlib.pyplot as pp"
   ]
  },
  {
   "cell_type": "code",
   "execution_count": 2,
   "id": "c0e44647-b8bc-4735-807b-1f97d87de8ec",
   "metadata": {},
   "outputs": [],
   "source": [
    "years = np.array([1,1,1,2,2,2,3,3,3])\n",
    "months = np.array([7,7,7,6,7,7,4,5,5])\n",
    "temp = np.array([1,2,3,4,5,6,7,8,9])"
   ]
  },
  {
   "cell_type": "code",
   "execution_count": 14,
   "id": "1166daa7-a965-41db-85e6-ce48c68fe93a",
   "metadata": {},
   "outputs": [
    {
     "name": "stdout",
     "output_type": "stream",
     "text": [
      "[1 2 3]\n",
      "[2.  5.5 nan]\n"
     ]
    },
    {
     "name": "stderr",
     "output_type": "stream",
     "text": [
      "/home/bgold/anaconda3/lib/python3.9/site-packages/numpy/core/fromnumeric.py:3419: RuntimeWarning: Mean of empty slice.\n",
      "  return _methods._mean(a, axis=axis, dtype=dtype,\n",
      "/home/bgold/anaconda3/lib/python3.9/site-packages/numpy/core/_methods.py:188: RuntimeWarning: invalid value encountered in double_scalars\n",
      "  ret = ret.dtype.type(ret / rcount)\n"
     ]
    },
    {
     "data": {
      "text/plain": [
       "[<matplotlib.lines.Line2D at 0x7fac9fcff520>]"
      ]
     },
     "execution_count": 14,
     "metadata": {},
     "output_type": "execute_result"
    },
    {
     "data": {
      "image/png": "[encoded data removed]",
      "text/plain": [
       "<Figure size 432x288 with 1 Axes>"
      ]
     },
     "metadata": {
      "needs_background": "light"
     },
     "output_type": "display_data"
    }
   ],
   "source": [
    "x = np.arange(np.min(years), np.max(years)+1)\n",
    "y = np.zeros(len(x))\n",
    "for i in range(len(x)):\n",
    "    index = (years == x[i]) & (months == 7)\n",
    "    y[i] = np.mean(temp[index])\n",
    "print(x)\n",
    "print(y)\n",
    "pp.plot(x,y, 'm^')"
   ]
  },
  {
   "cell_type": "code",
   "execution_count": null,
   "id": "76778b13-63e9-4622-be1d-a96f85c681dc",
   "metadata": {},
   "outputs": [],
   "source": []
  }
 ],
 "metadata": {
  "kernelspec": {
   "display_name": "Python 3 (ipykernel)",
   "language": "python",
   "name": "python3"
  },
  "language_info": {
   "codemirror_mode": {
    "name": "ipython",
    "version": 3
   },
   "file_extension": ".py",
   "mimetype": "text/x-python",
   "name": "python",
   "nbconvert_exporter": "python",
   "pygments_lexer": "ipython3",
   "version": "3.9.7"
  }
 },
 "nbformat": 4,
 "nbformat_minor": 5
}
