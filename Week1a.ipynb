{
 "cells": [
  {
   "cell_type": "markdown",
   "id": "ca85dfb0-efb4-460f-8111-be58148940d5",
   "metadata": {},
   "source": [
    "If you type something and want it in *italics* _underline_\n",
    "   * you can do bullet points\n",
    "   * they look cool\n",
    "\n",
    "$E = \\gamma m c^2$"
   ]
  },
  {
   "cell_type": "code",
   "execution_count": 1,
   "id": "ba87c2cd-def8-47bf-a970-e7446c67fa81",
   "metadata": {},
   "outputs": [
    {
     "data": {
      "text/plain": [
       "8"
      ]
     },
     "execution_count": 1,
     "metadata": {},
     "output_type": "execute_result"
    }
   ],
   "source": [
    "5 + 3"
   ]
  },
  {
   "cell_type": "code",
   "execution_count": 2,
   "id": "d65e92e9-19e9-42ba-89b0-c8d37dab452a",
   "metadata": {},
   "outputs": [
    {
     "data": {
      "text/plain": [
       "13"
      ]
     },
     "execution_count": 2,
     "metadata": {},
     "output_type": "execute_result"
    }
   ],
   "source": [
    "5 * 3 - 2"
   ]
  },
  {
   "cell_type": "code",
   "execution_count": 3,
   "id": "7bd10bfb-9ec2-4a10-a080-139f4ddfe0d5",
   "metadata": {},
   "outputs": [
    {
     "data": {
      "text/plain": [
       "125"
      ]
     },
     "execution_count": 3,
     "metadata": {},
     "output_type": "execute_result"
    }
   ],
   "source": [
    "5**3"
   ]
  },
  {
   "cell_type": "code",
   "execution_count": 4,
   "id": "226715b8-ae07-439e-a27e-b01819975b27",
   "metadata": {},
   "outputs": [
    {
     "data": {
      "text/plain": [
       "6"
      ]
     },
     "execution_count": 4,
     "metadata": {},
     "output_type": "execute_result"
    }
   ],
   "source": [
    "5^3"
   ]
  },
  {
   "cell_type": "code",
   "execution_count": 5,
   "id": "025c53b0-17ae-4739-a23f-4ca531a89092",
   "metadata": {},
   "outputs": [],
   "source": [
    "import numpy as np"
   ]
  },
  {
   "cell_type": "code",
   "execution_count": 6,
   "id": "e26028c8-13b4-4a2c-b15d-5fe7619743d2",
   "metadata": {},
   "outputs": [
    {
     "data": {
      "text/plain": [
       "0.479425538604203"
      ]
     },
     "execution_count": 6,
     "metadata": {},
     "output_type": "execute_result"
    }
   ],
   "source": [
    "np.sin(0.5)"
   ]
  },
  {
   "cell_type": "code",
   "execution_count": 7,
   "id": "9ff5e6a2-8c7a-4845-be1d-d7f744bd178d",
   "metadata": {},
   "outputs": [],
   "source": [
    "def myfunc(x):\n",
    "    x = 3.0 * x\n",
    "    return 2.0 * x"
   ]
  },
  {
   "cell_type": "code",
   "execution_count": 8,
   "id": "8c988937-9bd3-45fa-a836-591b3a9e385f",
   "metadata": {},
   "outputs": [
    {
     "name": "stdout",
     "output_type": "stream",
     "text": [
      "3 18.0\n"
     ]
    }
   ],
   "source": [
    "a = 3\n",
    "b = myfunc(a)\n",
    "print(a,b)"
   ]
  },
  {
   "cell_type": "code",
   "execution_count": 9,
   "id": "f5673fa4-f3e6-4e15-82ab-5bcc0f1eab8c",
   "metadata": {},
   "outputs": [],
   "source": [
    "c = \"foo\""
   ]
  },
  {
   "cell_type": "code",
   "execution_count": 10,
   "id": "934a93dc-8cd1-4b7a-8e1c-210bddfed821",
   "metadata": {},
   "outputs": [
    {
     "name": "stdout",
     "output_type": "stream",
     "text": [
      "can't add these types\n"
     ]
    }
   ],
   "source": [
    "try: a + c\n",
    "except TypeError: print(\"can't add these types\")"
   ]
  },
  {
   "cell_type": "code",
   "execution_count": 11,
   "id": "1525dfa9-8bf3-4a04-ad8e-432de6c705e4",
   "metadata": {},
   "outputs": [
    {
     "name": "stdout",
     "output_type": "stream",
     "text": [
      "foo\n"
     ]
    }
   ],
   "source": [
    "print(c)"
   ]
  },
  {
   "cell_type": "code",
   "execution_count": 12,
   "id": "acca9989-9112-4692-8049-5357783a54fe",
   "metadata": {},
   "outputs": [
    {
     "name": "stdout",
     "output_type": "stream",
     "text": [
      "3\n",
      "18.0\n",
      "foo\n"
     ]
    }
   ],
   "source": [
    "print(a)\n",
    "print(b)\n",
    "print(c)"
   ]
  },
  {
   "cell_type": "code",
   "execution_count": 13,
   "id": "3a0f5a75-7b60-4f7b-9149-de7f61865db7",
   "metadata": {
    "tags": []
   },
   "outputs": [
    {
     "data": {
      "text/plain": [
       "0.479425538604203"
      ]
     },
     "execution_count": 13,
     "metadata": {},
     "output_type": "execute_result"
    }
   ],
   "source": [
    "np.sin(0.5)"
   ]
  },
  {
   "cell_type": "code",
   "execution_count": 14,
   "id": "b975aa58-d397-4de7-a3ff-4251554a653d",
   "metadata": {},
   "outputs": [],
   "source": [
    "x = np.linspace(0,1,100)"
   ]
  },
  {
   "cell_type": "code",
   "execution_count": 15,
   "id": "c4d55116-aa57-4246-9dcd-8b8699d92e22",
   "metadata": {},
   "outputs": [],
   "source": [
    "y = np.sqrt(x)"
   ]
  },
  {
   "cell_type": "code",
   "execution_count": 16,
   "id": "3979521a-d66b-4202-a044-671885b852fc",
   "metadata": {},
   "outputs": [
    {
     "name": "stdout",
     "output_type": "stream",
     "text": [
      "need to import a module!\n"
     ]
    }
   ],
   "source": [
    "try: plot(x,y)\n",
    "except NameError: print(\"need to import a module!\")"
   ]
  },
  {
   "cell_type": "code",
   "execution_count": 17,
   "id": "3b47e9d8-bfc4-4bb8-a056-a9b320765846",
   "metadata": {},
   "outputs": [],
   "source": [
    "import matplotlib.pyplot as pp"
   ]
  },
  {
   "cell_type": "code",
   "execution_count": 18,
   "id": "5162bf31-d14d-482f-b9aa-e92f3ab6891c",
   "metadata": {},
   "outputs": [
    {
     "data": {
      "text/plain": [
       "[<matplotlib.lines.Line2D at 0x7fc90402d130>]"
      ]
     },
     "execution_count": 18,
     "metadata": {},
     "output_type": "execute_result"
    },
    {
     "data": {
      "image/png": "[encoded data removed]",
      "text/plain": [
       "<Figure size 432x288 with 1 Axes>"
      ]
     },
     "metadata": {
      "needs_background": "light"
     },
     "output_type": "display_data"
    }
   ],
   "source": [
    "pp.plot(x,y, \"k.\")"
   ]
  },
  {
   "cell_type": "code",
   "execution_count": 19,
   "id": "a0d81c72-f119-4926-bee8-08acb0103406",
   "metadata": {},
   "outputs": [
    {
     "data": {
      "text/plain": [
       "[<matplotlib.lines.Line2D at 0x7fc8f798ca30>]"
      ]
     },
     "execution_count": 19,
     "metadata": {},
     "output_type": "execute_result"
    },
    {
     "data": {
      "image/png": "[encoded data removed]",
      "text/plain": [
       "<Figure size 432x288 with 1 Axes>"
      ]
     },
     "metadata": {
      "needs_background": "light"
     },
     "output_type": "display_data"
    }
   ],
   "source": [
    "pp.plot(x, np.sin(x), 'k.')"
   ]
  },
  {
   "cell_type": "code",
   "execution_count": 20,
   "id": "ad919931-7fb0-4dca-bfb8-63fad30a95fa",
   "metadata": {},
   "outputs": [
    {
     "data": {
      "text/plain": [
       "[<matplotlib.lines.Line2D at 0x7fc8f78f5c10>]"
      ]
     },
     "execution_count": 20,
     "metadata": {},
     "output_type": "execute_result"
    },
    {
     "data": {
      "image/png": "[encoded data removed]",
      "text/plain": [
       "<Figure size 432x288 with 1 Axes>"
      ]
     },
     "metadata": {
      "needs_background": "light"
     },
     "output_type": "display_data"
    }
   ],
   "source": [
    "x = np.linspace(0,2*np.pi, 100)\n",
    "pp.plot(x, np.sin(x), 'r.')"
   ]
  },
  {
   "cell_type": "code",
   "execution_count": 21,
   "id": "545b39c1-ad71-491b-86f8-12f647eff023",
   "metadata": {},
   "outputs": [],
   "source": [
    "def fib(n):\n",
    "    if n<2:\n",
    "        return 1\n",
    "    return fib(n-1)+fib(n-2)"
   ]
  },
  {
   "cell_type": "code",
   "execution_count": 22,
   "id": "8d75c931-6042-4128-81da-33789b746039",
   "metadata": {},
   "outputs": [
    {
     "name": "stdout",
     "output_type": "stream",
     "text": [
      "this function won't work with arrays\n"
     ]
    }
   ],
   "source": [
    "try: fib(np.arange(10))\n",
    "except ValueError: print(\"this function won't work with arrays\")"
   ]
  },
  {
   "cell_type": "code",
   "execution_count": 23,
   "id": "4cd91c69-00a8-4df4-b92b-26033262ecb9",
   "metadata": {},
   "outputs": [
    {
     "name": "stdout",
     "output_type": "stream",
     "text": [
      "1\n",
      "1\n",
      "2\n",
      "3\n",
      "5\n",
      "8\n",
      "13\n",
      "21\n",
      "34\n",
      "55\n"
     ]
    }
   ],
   "source": [
    "for i in np.arange(10):\n",
    "    print(fib(i))"
   ]
  },
  {
   "cell_type": "code",
   "execution_count": 24,
   "id": "4cf6acf1-abea-424e-81dc-8296f9764fc4",
   "metadata": {},
   "outputs": [
    {
     "name": "stderr",
     "output_type": "stream",
     "text": [
      "/tmp/ipykernel_30010/1949651113.py:1: DeprecationWarning: `np.complex` is a deprecated alias for the builtin `complex`. To silence this warning, use `complex` by itself. Doing this will not modify any behavior and is safe. If you specifically wanted the numpy scalar type, use `np.complex128` here.\n",
      "Deprecated in NumPy 1.20; for more details and guidance: https://numpy.org/devdocs/release/1.20.0-notes.html#deprecations\n",
      "  np.complex(1,2)\n"
     ]
    },
    {
     "data": {
      "text/plain": [
       "(1+2j)"
      ]
     },
     "execution_count": 24,
     "metadata": {},
     "output_type": "execute_result"
    }
   ],
   "source": [
    "np.complex(1,2)"
   ]
  },
  {
   "cell_type": "code",
   "execution_count": 25,
   "id": "735ff7b9-2ad1-4b5c-9ff2-bb90f9278553",
   "metadata": {},
   "outputs": [
    {
     "data": {
      "text/plain": [
       "10.0"
      ]
     },
     "execution_count": 25,
     "metadata": {},
     "output_type": "execute_result"
    }
   ],
   "source": [
    "np.imag(complex(1,2) * complex(3,4))"
   ]
  },
  {
   "cell_type": "code",
   "execution_count": 26,
   "id": "6f689c35-842b-486a-a07a-10b865a1fd50",
   "metadata": {},
   "outputs": [],
   "source": [
    "def myfunc(x):\n",
    "    return x**2 + np.sin(x) - np.cos(3*x) + np.sinh(np.sqrt(x))"
   ]
  },
  {
   "cell_type": "code",
   "execution_count": 27,
   "id": "7a800544-d5af-41ea-b054-cb52ba295a49",
   "metadata": {},
   "outputs": [],
   "source": [
    "x = np.linspace(0,2*np.pi,100)"
   ]
  },
  {
   "cell_type": "code",
   "execution_count": 28,
   "id": "403717ec-fce4-44ae-be81-04d0e1e46c64",
   "metadata": {},
   "outputs": [
    {
     "data": {
      "text/plain": [
       "[<matplotlib.lines.Line2D at 0x7fc8f78d6b50>]"
      ]
     },
     "execution_count": 28,
     "metadata": {},
     "output_type": "execute_result"
    },
    {
     "data": {
      "image/png": "[encoded data removed]",
      "text/plain": [
       "<Figure size 432x288 with 1 Axes>"
      ]
     },
     "metadata": {
      "needs_background": "light"
     },
     "output_type": "display_data"
    }
   ],
   "source": [
    "pp.plot(x,myfunc(x), 'm-')"
   ]
  },
  {
   "cell_type": "code",
   "execution_count": 29,
   "id": "bc6ec9bf-5f5c-4412-83f1-72114b8cedd9",
   "metadata": {},
   "outputs": [
    {
     "data": {
      "text/plain": [
       "array([1, 1, 1, 1, 1, 1, 1, 1, 1, 1, 1, 1, 1, 1, 1, 1, 1, 1, 1, 1, 1, 1,\n",
       "       1, 1, 1, 1, 1, 1, 1, 1, 1, 1, 1, 1, 1, 1, 1, 1, 1, 1, 1, 1, 1, 1,\n",
       "       1, 1, 1, 1, 0, 0, 0, 0, 0, 0, 0, 0, 0, 0, 0, 0, 0, 0, 0, 0, 0, 0,\n",
       "       0, 0, 0, 0, 0, 0, 0, 0, 0, 0, 0, 0, 0, 0, 0, 0, 0, 0, 0, 0, 0, 0,\n",
       "       0, 0, 0, 0, 0, 0, 0, 0, 0, 0, 0, 0])"
      ]
     },
     "execution_count": 29,
     "metadata": {},
     "output_type": "execute_result"
    }
   ],
   "source": [
    "(x < 3)*1"
   ]
  }
 ],
 "metadata": {
  "kernelspec": {
   "display_name": "Python 3 (ipykernel)",
   "language": "python",
   "name": "python3"
  },
  "language_info": {
   "codemirror_mode": {
    "name": "ipython",
    "version": 3
   },
   "file_extension": ".py",
   "mimetype": "text/x-python",
   "name": "python",
   "nbconvert_exporter": "python",
   "pygments_lexer": "ipython3",
   "version": "3.9.7"
  }
 },
 "nbformat": 4,
 "nbformat_minor": 5
}
