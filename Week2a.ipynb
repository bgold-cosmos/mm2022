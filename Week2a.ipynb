{
 "cells": [
  {
   "cell_type": "code",
   "execution_count": 1,
   "id": "e3080a24-76e4-4eea-99a5-c7913edc1118",
   "metadata": {},
   "outputs": [],
   "source": [
    "import numpy as np\n",
    "import matplotlib.pyplot as pp\n",
    "import pandas as pd"
   ]
  },
  {
   "cell_type": "code",
   "execution_count": 5,
   "id": "9322b69f-c012-4f93-a1e3-5735243d2f6e",
   "metadata": {},
   "outputs": [
    {
     "name": "stderr",
     "output_type": "stream",
     "text": [
      "/tmp/ipykernel_45522/1265024133.py:2: RuntimeWarning: divide by zero encountered in true_divide\n",
      "  y = 1/x\n"
     ]
    },
    {
     "data": {
      "text/plain": [
       "[<matplotlib.lines.Line2D at 0x7f4f4cb85a00>]"
      ]
     },
     "execution_count": 5,
     "metadata": {},
     "output_type": "execute_result"
    },
    {
     "data": {
      "image/png": "[encoded data removed]",
      "text/plain": [
       "<Figure size 432x288 with 1 Axes>"
      ]
     },
     "metadata": {
      "needs_background": "light"
     },
     "output_type": "display_data"
    }
   ],
   "source": [
    "x = np.arange(100)\n",
    "y = 1/x\n",
    "pp.plot(x,y)"
   ]
  },
  {
   "cell_type": "code",
   "execution_count": 15,
   "id": "ee7c262f-5c4d-44da-b14b-3f3a3fa4af94",
   "metadata": {},
   "outputs": [
    {
     "name": "stdout",
     "output_type": "stream",
     "text": [
      "49.5 , inf\n"
     ]
    }
   ],
   "source": [
    "print(np.mean(x), \",\", np.mean(y))"
   ]
  },
  {
   "cell_type": "code",
   "execution_count": 21,
   "id": "3fb434df-33ff-44f9-8fc2-9a2fd681e497",
   "metadata": {},
   "outputs": [
    {
     "name": "stdout",
     "output_type": "stream",
     "text": [
      "50.0 , 0.05229674260242041\n"
     ]
    }
   ],
   "source": [
    "ii = np.isfinite(y)\n",
    "print(np.mean(x[ii]), \",\", np.mean(y[ii]))"
   ]
  },
  {
   "cell_type": "code",
   "execution_count": 2,
   "id": "dada762a-b715-406a-bd18-bbfbf92d7cf3",
   "metadata": {},
   "outputs": [],
   "source": [
    "data = pd.read_csv('GlobalLandTemperaturesByMajorCity.csv')"
   ]
  }
 ],
 "metadata": {
  "kernelspec": {
   "display_name": "Python 3 (ipykernel)",
   "language": "python",
   "name": "python3"
  },
  "language_info": {
   "codemirror_mode": {
    "name": "ipython",
    "version": 3
   },
   "file_extension": ".py",
   "mimetype": "text/x-python",
   "name": "python",
   "nbconvert_exporter": "python",
   "pygments_lexer": "ipython3",
   "version": "3.8.10"
  }
 },
 "nbformat": 4,
 "nbformat_minor": 5
}
