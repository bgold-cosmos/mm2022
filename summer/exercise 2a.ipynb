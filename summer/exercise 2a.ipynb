{
 "cells": [
  {
   "cell_type": "code",
   "execution_count": 1,
   "id": "0e741e65-672e-4cb1-8cc5-4bb5df97c67e",
   "metadata": {},
   "outputs": [],
   "source": [
    "import numpy as np\n",
    "import matplotlib.pyplot as pp\n",
    "import pandas as pd"
   ]
  },
  {
   "cell_type": "code",
   "execution_count": 4,
   "id": "93acd4db-76dd-4c98-a6da-bb7bfb40803d",
   "metadata": {},
   "outputs": [],
   "source": [
    "data = pd.read_csv(\"GlobalLandTemperaturesByMajorCity.csv\")"
   ]
  },
  {
   "cell_type": "code",
   "execution_count": 5,
   "id": "4ccbffaf-ca6a-499a-82bc-6614e3e04e8a",
   "metadata": {},
   "outputs": [
    {
     "data": {
      "text/html": [
       "<div>\n",
       "<style scoped>\n",
       "    .dataframe tbody tr th:only-of-type {\n",
       "        vertical-align: middle;\n",
       "    }\n",
       "\n",
       "    .dataframe tbody tr th {\n",
       "        vertical-align: top;\n",
       "    }\n",
       "\n",
       "    .dataframe thead th {\n",
       "        text-align: right;\n",
       "    }\n",
       "</style>\n",
       "<table border=\"1\" class=\"dataframe\">\n",
       "  <thead>\n",
       "    <tr style=\"text-align: right;\">\n",
       "      <th></th>\n",
       "      <th>dt</th>\n",
       "      <th>AverageTemperature</th>\n",
       "      <th>AverageTemperatureUncertainty</th>\n",
       "      <th>City</th>\n",
       "      <th>Country</th>\n",
       "      <th>Latitude</th>\n",
       "      <th>Longitude</th>\n",
       "    </tr>\n",
       "  </thead>\n",
       "  <tbody>\n",
       "    <tr>\n",
       "      <th>0</th>\n",
       "      <td>1849-01-01</td>\n",
       "      <td>26.704</td>\n",
       "      <td>1.435</td>\n",
       "      <td>Abidjan</td>\n",
       "      <td>Côte D'Ivoire</td>\n",
       "      <td>5.63N</td>\n",
       "      <td>3.23W</td>\n",
       "    </tr>\n",
       "    <tr>\n",
       "      <th>1</th>\n",
       "      <td>1849-02-01</td>\n",
       "      <td>27.434</td>\n",
       "      <td>1.362</td>\n",
       "      <td>Abidjan</td>\n",
       "      <td>Côte D'Ivoire</td>\n",
       "      <td>5.63N</td>\n",
       "      <td>3.23W</td>\n",
       "    </tr>\n",
       "    <tr>\n",
       "      <th>2</th>\n",
       "      <td>1849-03-01</td>\n",
       "      <td>28.101</td>\n",
       "      <td>1.612</td>\n",
       "      <td>Abidjan</td>\n",
       "      <td>Côte D'Ivoire</td>\n",
       "      <td>5.63N</td>\n",
       "      <td>3.23W</td>\n",
       "    </tr>\n",
       "    <tr>\n",
       "      <th>3</th>\n",
       "      <td>1849-04-01</td>\n",
       "      <td>26.140</td>\n",
       "      <td>1.387</td>\n",
       "      <td>Abidjan</td>\n",
       "      <td>Côte D'Ivoire</td>\n",
       "      <td>5.63N</td>\n",
       "      <td>3.23W</td>\n",
       "    </tr>\n",
       "    <tr>\n",
       "      <th>4</th>\n",
       "      <td>1849-05-01</td>\n",
       "      <td>25.427</td>\n",
       "      <td>1.200</td>\n",
       "      <td>Abidjan</td>\n",
       "      <td>Côte D'Ivoire</td>\n",
       "      <td>5.63N</td>\n",
       "      <td>3.23W</td>\n",
       "    </tr>\n",
       "    <tr>\n",
       "      <th>...</th>\n",
       "      <td>...</td>\n",
       "      <td>...</td>\n",
       "      <td>...</td>\n",
       "      <td>...</td>\n",
       "      <td>...</td>\n",
       "      <td>...</td>\n",
       "      <td>...</td>\n",
       "    </tr>\n",
       "    <tr>\n",
       "      <th>239172</th>\n",
       "      <td>2013-05-01</td>\n",
       "      <td>18.979</td>\n",
       "      <td>0.807</td>\n",
       "      <td>Xian</td>\n",
       "      <td>China</td>\n",
       "      <td>34.56N</td>\n",
       "      <td>108.97E</td>\n",
       "    </tr>\n",
       "    <tr>\n",
       "      <th>239173</th>\n",
       "      <td>2013-06-01</td>\n",
       "      <td>23.522</td>\n",
       "      <td>0.647</td>\n",
       "      <td>Xian</td>\n",
       "      <td>China</td>\n",
       "      <td>34.56N</td>\n",
       "      <td>108.97E</td>\n",
       "    </tr>\n",
       "    <tr>\n",
       "      <th>239174</th>\n",
       "      <td>2013-07-01</td>\n",
       "      <td>25.251</td>\n",
       "      <td>1.042</td>\n",
       "      <td>Xian</td>\n",
       "      <td>China</td>\n",
       "      <td>34.56N</td>\n",
       "      <td>108.97E</td>\n",
       "    </tr>\n",
       "    <tr>\n",
       "      <th>239175</th>\n",
       "      <td>2013-08-01</td>\n",
       "      <td>24.528</td>\n",
       "      <td>0.840</td>\n",
       "      <td>Xian</td>\n",
       "      <td>China</td>\n",
       "      <td>34.56N</td>\n",
       "      <td>108.97E</td>\n",
       "    </tr>\n",
       "    <tr>\n",
       "      <th>239176</th>\n",
       "      <td>2013-09-01</td>\n",
       "      <td>NaN</td>\n",
       "      <td>NaN</td>\n",
       "      <td>Xian</td>\n",
       "      <td>China</td>\n",
       "      <td>34.56N</td>\n",
       "      <td>108.97E</td>\n",
       "    </tr>\n",
       "  </tbody>\n",
       "</table>\n",
       "<p>239177 rows × 7 columns</p>\n",
       "</div>"
      ],
      "text/plain": [
       "                dt  AverageTemperature  AverageTemperatureUncertainty  \\\n",
       "0       1849-01-01              26.704                          1.435   \n",
       "1       1849-02-01              27.434                          1.362   \n",
       "2       1849-03-01              28.101                          1.612   \n",
       "3       1849-04-01              26.140                          1.387   \n",
       "4       1849-05-01              25.427                          1.200   \n",
       "...            ...                 ...                            ...   \n",
       "239172  2013-05-01              18.979                          0.807   \n",
       "239173  2013-06-01              23.522                          0.647   \n",
       "239174  2013-07-01              25.251                          1.042   \n",
       "239175  2013-08-01              24.528                          0.840   \n",
       "239176  2013-09-01                 NaN                            NaN   \n",
       "\n",
       "           City        Country Latitude Longitude  \n",
       "0       Abidjan  Côte D'Ivoire    5.63N     3.23W  \n",
       "1       Abidjan  Côte D'Ivoire    5.63N     3.23W  \n",
       "2       Abidjan  Côte D'Ivoire    5.63N     3.23W  \n",
       "3       Abidjan  Côte D'Ivoire    5.63N     3.23W  \n",
       "4       Abidjan  Côte D'Ivoire    5.63N     3.23W  \n",
       "...         ...            ...      ...       ...  \n",
       "239172     Xian          China   34.56N   108.97E  \n",
       "239173     Xian          China   34.56N   108.97E  \n",
       "239174     Xian          China   34.56N   108.97E  \n",
       "239175     Xian          China   34.56N   108.97E  \n",
       "239176     Xian          China   34.56N   108.97E  \n",
       "\n",
       "[239177 rows x 7 columns]"
      ]
     },
     "execution_count": 5,
     "metadata": {},
     "output_type": "execute_result"
    }
   ],
   "source": [
    "data"
   ]
  },
  {
   "cell_type": "code",
   "execution_count": 6,
   "id": "bc5b542a-6e1d-467f-8ed0-3ca6cab5729a",
   "metadata": {},
   "outputs": [
    {
     "data": {
      "text/plain": [
       "Index(['dt', 'AverageTemperature', 'AverageTemperatureUncertainty', 'City',\n",
       "       'Country', 'Latitude', 'Longitude'],\n",
       "      dtype='object')"
      ]
     },
     "execution_count": 6,
     "metadata": {},
     "output_type": "execute_result"
    }
   ],
   "source": [
    "data.columns"
   ]
  },
  {
   "cell_type": "code",
   "execution_count": 7,
   "id": "6d7f5545-84dc-4315-b198-851b0be19458",
   "metadata": {},
   "outputs": [
    {
     "data": {
      "text/plain": [
       "0         Abidjan\n",
       "1         Abidjan\n",
       "2         Abidjan\n",
       "3         Abidjan\n",
       "4         Abidjan\n",
       "           ...   \n",
       "239172       Xian\n",
       "239173       Xian\n",
       "239174       Xian\n",
       "239175       Xian\n",
       "239176       Xian\n",
       "Name: City, Length: 239177, dtype: object"
      ]
     },
     "execution_count": 7,
     "metadata": {},
     "output_type": "execute_result"
    }
   ],
   "source": [
    "data['City']"
   ]
  },
  {
   "cell_type": "code",
   "execution_count": 10,
   "id": "1f6e149f-7611-4801-9ffb-381691695a05",
   "metadata": {},
   "outputs": [],
   "source": [
    "onecity = data[data['City'] == \"Abidjan\"]"
   ]
  },
  {
   "cell_type": "code",
   "execution_count": null,
   "id": "7d8300ff-2ecf-4654-94e3-af7403b55b49",
   "metadata": {},
   "outputs": [],
   "source": [
    "x = onecity['dt']\n",
    "y = onecity['AverageTemperature']"
   ]
  },
  {
   "cell_type": "code",
   "execution_count": 13,
   "id": "0284fe0c-00ba-4587-b410-2d41386b559e",
   "metadata": {},
   "outputs": [
    {
     "data": {
      "text/plain": [
       "0       1849-01-01\n",
       "1       1849-02-01\n",
       "2       1849-03-01\n",
       "3       1849-04-01\n",
       "4       1849-05-01\n",
       "           ...    \n",
       "1972    2013-05-01\n",
       "1973    2013-06-01\n",
       "1974    2013-07-01\n",
       "1975    2013-08-01\n",
       "1976    2013-09-01\n",
       "Name: dt, Length: 1977, dtype: object"
      ]
     },
     "execution_count": 13,
     "metadata": {},
     "output_type": "execute_result"
    }
   ],
   "source": [
    "x"
   ]
  },
  {
   "cell_type": "code",
   "execution_count": 14,
   "id": "c0e4442a-1aff-46b9-a0d4-0b7023db1da3",
   "metadata": {},
   "outputs": [
    {
     "data": {
      "text/plain": [
       "0       26.704\n",
       "1       27.434\n",
       "2       28.101\n",
       "3       26.140\n",
       "4       25.427\n",
       "         ...  \n",
       "1972    27.652\n",
       "1973    26.157\n",
       "1974    24.951\n",
       "1975    24.541\n",
       "1976       NaN\n",
       "Name: AverageTemperature, Length: 1977, dtype: float64"
      ]
     },
     "execution_count": 14,
     "metadata": {},
     "output_type": "execute_result"
    }
   ],
   "source": [
    "y"
   ]
  },
  {
   "cell_type": "code",
   "execution_count": 15,
   "id": "58a6b543-2c3c-4401-8ead-0387a115685f",
   "metadata": {},
   "outputs": [
    {
     "data": {
      "text/plain": [
       "[<matplotlib.lines.Line2D at 0x1172a45b0>]"
      ]
     },
     "execution_count": 15,
     "metadata": {},
     "output_type": "execute_result"
    },
    {
     "data": {
      "image/png": "[encoded data removed]",
      "text/plain": [
       "<Figure size 432x288 with 1 Axes>"
      ]
     },
     "metadata": {
      "needs_background": "light"
     },
     "output_type": "display_data"
    }
   ],
   "source": [
    "pp.plot(x,y)"
   ]
  },
  {
   "cell_type": "code",
   "execution_count": 19,
   "id": "9918112f-072e-486a-bae5-bed42af03418",
   "metadata": {},
   "outputs": [],
   "source": [
    "yr = pd.DatetimeIndex(x).year\n",
    "mo = pd.DatetimeIndex(x).month"
   ]
  },
  {
   "cell_type": "code",
   "execution_count": 22,
   "id": "ec356141-5dbc-4834-9101-330801d12ab6",
   "metadata": {},
   "outputs": [
    {
     "data": {
      "text/plain": [
       "0       26.704\n",
       "12      25.803\n",
       "24      26.789\n",
       "36         NaN\n",
       "48         NaN\n",
       "         ...  \n",
       "1920    26.912\n",
       "1932    28.270\n",
       "1944    27.360\n",
       "1956    27.317\n",
       "1968    27.751\n",
       "Name: AverageTemperature, Length: 165, dtype: float64"
      ]
     },
     "execution_count": 22,
     "metadata": {},
     "output_type": "execute_result"
    }
   ],
   "source": [
    "x[mo == 1]\n",
    "y[mo == 1]"
   ]
  },
  {
   "cell_type": "code",
   "execution_count": 23,
   "id": "8b24db5f-6d0f-420b-ad64-097997b009ef",
   "metadata": {},
   "outputs": [
    {
     "data": {
      "text/plain": [
       "[<matplotlib.lines.Line2D at 0x1185f8a90>]"
      ]
     },
     "execution_count": 23,
     "metadata": {},
     "output_type": "execute_result"
    },
    {
     "data": {
      "image/png": "[encoded data removed]",
      "text/plain": [
       "<Figure size 432x288 with 1 Axes>"
      ]
     },
     "metadata": {
      "needs_background": "light"
     },
     "output_type": "display_data"
    }
   ],
   "source": [
    "pp.plot(x[mo == 1], y[mo == 1])"
   ]
  },
  {
   "cell_type": "code",
   "execution_count": 25,
   "id": "0953e6d3-b4c9-478a-83e7-813517966ba7",
   "metadata": {},
   "outputs": [
    {
     "data": {
      "text/plain": [
       "26.629107382550337"
      ]
     },
     "execution_count": 25,
     "metadata": {},
     "output_type": "execute_result"
    }
   ],
   "source": [
    "np.mean(y[mo == 1])"
   ]
  },
  {
   "cell_type": "code",
   "execution_count": null,
   "id": "24c51d72-e2bd-47df-8f90-9aa695f16750",
   "metadata": {},
   "outputs": [],
   "source": []
  }
 ],
 "metadata": {
  "kernelspec": {
   "display_name": "Python 3 (ipykernel)",
   "language": "python",
   "name": "python3"
  },
  "language_info": {
   "codemirror_mode": {
    "name": "ipython",
    "version": 3
   },
   "file_extension": ".py",
   "mimetype": "text/x-python",
   "name": "python",
   "nbconvert_exporter": "python",
   "pygments_lexer": "ipython3",
   "version": "3.9.13"
  }
 },
 "nbformat": 4,
 "nbformat_minor": 5
}
