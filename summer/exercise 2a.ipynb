{
 "cells": [
  {
   "cell_type": "code",
   "execution_count": 1,
   "id": "0e741e65-672e-4cb1-8cc5-4bb5df97c67e",
   "metadata": {},
   "outputs": [],
   "source": [
    "import numpy as np\n",
    "import matplotlib.pyplot as pp\n",
    "import pandas as pd"
   ]
  },
  {
   "cell_type": "code",
   "execution_count": 2,
   "id": "93acd4db-76dd-4c98-a6da-bb7bfb40803d",
   "metadata": {},
   "outputs": [],
   "source": [
    "data = pd.read_csv(\"GlobalLandTemperaturesByMajorCity.csv\")"
   ]
  },
  {
   "cell_type": "code",
   "execution_count": 3,
   "id": "4ccbffaf-ca6a-499a-82bc-6614e3e04e8a",
   "metadata": {},
   "outputs": [
    {
     "data": {
      "text/html": [
       "<div>\n",
       "<style scoped>\n",
       "    .dataframe tbody tr th:only-of-type {\n",
       "        vertical-align: middle;\n",
       "    }\n",
       "\n",
       "    .dataframe tbody tr th {\n",
       "        vertical-align: top;\n",
       "    }\n",
       "\n",
       "    .dataframe thead th {\n",
       "        text-align: right;\n",
       "    }\n",
       "</style>\n",
       "<table border=\"1\" class=\"dataframe\">\n",
       "  <thead>\n",
       "    <tr style=\"text-align: right;\">\n",
       "      <th></th>\n",
       "      <th>dt</th>\n",
       "      <th>AverageTemperature</th>\n",
       "      <th>AverageTemperatureUncertainty</th>\n",
       "      <th>City</th>\n",
       "      <th>Country</th>\n",
       "      <th>Latitude</th>\n",
       "      <th>Longitude</th>\n",
       "    </tr>\n",
       "  </thead>\n",
       "  <tbody>\n",
       "    <tr>\n",
       "      <th>0</th>\n",
       "      <td>1849-01-01</td>\n",
       "      <td>26.704</td>\n",
       "      <td>1.435</td>\n",
       "      <td>Abidjan</td>\n",
       "      <td>Côte D'Ivoire</td>\n",
       "      <td>5.63N</td>\n",
       "      <td>3.23W</td>\n",
       "    </tr>\n",
       "    <tr>\n",
       "      <th>1</th>\n",
       "      <td>1849-02-01</td>\n",
       "      <td>27.434</td>\n",
       "      <td>1.362</td>\n",
       "      <td>Abidjan</td>\n",
       "      <td>Côte D'Ivoire</td>\n",
       "      <td>5.63N</td>\n",
       "      <td>3.23W</td>\n",
       "    </tr>\n",
       "    <tr>\n",
       "      <th>2</th>\n",
       "      <td>1849-03-01</td>\n",
       "      <td>28.101</td>\n",
       "      <td>1.612</td>\n",
       "      <td>Abidjan</td>\n",
       "      <td>Côte D'Ivoire</td>\n",
       "      <td>5.63N</td>\n",
       "      <td>3.23W</td>\n",
       "    </tr>\n",
       "    <tr>\n",
       "      <th>3</th>\n",
       "      <td>1849-04-01</td>\n",
       "      <td>26.140</td>\n",
       "      <td>1.387</td>\n",
       "      <td>Abidjan</td>\n",
       "      <td>Côte D'Ivoire</td>\n",
       "      <td>5.63N</td>\n",
       "      <td>3.23W</td>\n",
       "    </tr>\n",
       "    <tr>\n",
       "      <th>4</th>\n",
       "      <td>1849-05-01</td>\n",
       "      <td>25.427</td>\n",
       "      <td>1.200</td>\n",
       "      <td>Abidjan</td>\n",
       "      <td>Côte D'Ivoire</td>\n",
       "      <td>5.63N</td>\n",
       "      <td>3.23W</td>\n",
       "    </tr>\n",
       "    <tr>\n",
       "      <th>...</th>\n",
       "      <td>...</td>\n",
       "      <td>...</td>\n",
       "      <td>...</td>\n",
       "      <td>...</td>\n",
       "      <td>...</td>\n",
       "      <td>...</td>\n",
       "      <td>...</td>\n",
       "    </tr>\n",
       "    <tr>\n",
       "      <th>239172</th>\n",
       "      <td>2013-05-01</td>\n",
       "      <td>18.979</td>\n",
       "      <td>0.807</td>\n",
       "      <td>Xian</td>\n",
       "      <td>China</td>\n",
       "      <td>34.56N</td>\n",
       "      <td>108.97E</td>\n",
       "    </tr>\n",
       "    <tr>\n",
       "      <th>239173</th>\n",
       "      <td>2013-06-01</td>\n",
       "      <td>23.522</td>\n",
       "      <td>0.647</td>\n",
       "      <td>Xian</td>\n",
       "      <td>China</td>\n",
       "      <td>34.56N</td>\n",
       "      <td>108.97E</td>\n",
       "    </tr>\n",
       "    <tr>\n",
       "      <th>239174</th>\n",
       "      <td>2013-07-01</td>\n",
       "      <td>25.251</td>\n",
       "      <td>1.042</td>\n",
       "      <td>Xian</td>\n",
       "      <td>China</td>\n",
       "      <td>34.56N</td>\n",
       "      <td>108.97E</td>\n",
       "    </tr>\n",
       "    <tr>\n",
       "      <th>239175</th>\n",
       "      <td>2013-08-01</td>\n",
       "      <td>24.528</td>\n",
       "      <td>0.840</td>\n",
       "      <td>Xian</td>\n",
       "      <td>China</td>\n",
       "      <td>34.56N</td>\n",
       "      <td>108.97E</td>\n",
       "    </tr>\n",
       "    <tr>\n",
       "      <th>239176</th>\n",
       "      <td>2013-09-01</td>\n",
       "      <td>NaN</td>\n",
       "      <td>NaN</td>\n",
       "      <td>Xian</td>\n",
       "      <td>China</td>\n",
       "      <td>34.56N</td>\n",
       "      <td>108.97E</td>\n",
       "    </tr>\n",
       "  </tbody>\n",
       "</table>\n",
       "<p>239177 rows × 7 columns</p>\n",
       "</div>"
      ],
      "text/plain": [
       "                dt  AverageTemperature  AverageTemperatureUncertainty  \\\n",
       "0       1849-01-01              26.704                          1.435   \n",
       "1       1849-02-01              27.434                          1.362   \n",
       "2       1849-03-01              28.101                          1.612   \n",
       "3       1849-04-01              26.140                          1.387   \n",
       "4       1849-05-01              25.427                          1.200   \n",
       "...            ...                 ...                            ...   \n",
       "239172  2013-05-01              18.979                          0.807   \n",
       "239173  2013-06-01              23.522                          0.647   \n",
       "239174  2013-07-01              25.251                          1.042   \n",
       "239175  2013-08-01              24.528                          0.840   \n",
       "239176  2013-09-01                 NaN                            NaN   \n",
       "\n",
       "           City        Country Latitude Longitude  \n",
       "0       Abidjan  Côte D'Ivoire    5.63N     3.23W  \n",
       "1       Abidjan  Côte D'Ivoire    5.63N     3.23W  \n",
       "2       Abidjan  Côte D'Ivoire    5.63N     3.23W  \n",
       "3       Abidjan  Côte D'Ivoire    5.63N     3.23W  \n",
       "4       Abidjan  Côte D'Ivoire    5.63N     3.23W  \n",
       "...         ...            ...      ...       ...  \n",
       "239172     Xian          China   34.56N   108.97E  \n",
       "239173     Xian          China   34.56N   108.97E  \n",
       "239174     Xian          China   34.56N   108.97E  \n",
       "239175     Xian          China   34.56N   108.97E  \n",
       "239176     Xian          China   34.56N   108.97E  \n",
       "\n",
       "[239177 rows x 7 columns]"
      ]
     },
     "execution_count": 3,
     "metadata": {},
     "output_type": "execute_result"
    }
   ],
   "source": [
    "data"
   ]
  },
  {
   "cell_type": "code",
   "execution_count": 4,
   "id": "bc5b542a-6e1d-467f-8ed0-3ca6cab5729a",
   "metadata": {},
   "outputs": [
    {
     "data": {
      "text/plain": [
       "Index(['dt', 'AverageTemperature', 'AverageTemperatureUncertainty', 'City',\n",
       "       'Country', 'Latitude', 'Longitude'],\n",
       "      dtype='object')"
      ]
     },
     "execution_count": 4,
     "metadata": {},
     "output_type": "execute_result"
    }
   ],
   "source": [
    "data.columns"
   ]
  },
  {
   "cell_type": "code",
   "execution_count": 5,
   "id": "6d7f5545-84dc-4315-b198-851b0be19458",
   "metadata": {},
   "outputs": [
    {
     "data": {
      "text/plain": [
       "0         Abidjan\n",
       "1         Abidjan\n",
       "2         Abidjan\n",
       "3         Abidjan\n",
       "4         Abidjan\n",
       "           ...   \n",
       "239172       Xian\n",
       "239173       Xian\n",
       "239174       Xian\n",
       "239175       Xian\n",
       "239176       Xian\n",
       "Name: City, Length: 239177, dtype: object"
      ]
     },
     "execution_count": 5,
     "metadata": {},
     "output_type": "execute_result"
    }
   ],
   "source": [
    "data['City']"
   ]
  },
  {
   "cell_type": "code",
   "execution_count": 6,
   "id": "1f6e149f-7611-4801-9ffb-381691695a05",
   "metadata": {},
   "outputs": [],
   "source": [
    "onecity = data[data['City'] == \"Abidjan\"]"
   ]
  },
  {
   "cell_type": "code",
   "execution_count": 7,
   "id": "7d8300ff-2ecf-4654-94e3-af7403b55b49",
   "metadata": {},
   "outputs": [],
   "source": [
    "x = onecity['dt']\n",
    "y = onecity['AverageTemperature']"
   ]
  },
  {
   "cell_type": "code",
   "execution_count": 8,
   "id": "0284fe0c-00ba-4587-b410-2d41386b559e",
   "metadata": {},
   "outputs": [
    {
     "data": {
      "text/plain": [
       "0       1849-01-01\n",
       "1       1849-02-01\n",
       "2       1849-03-01\n",
       "3       1849-04-01\n",
       "4       1849-05-01\n",
       "           ...    \n",
       "1972    2013-05-01\n",
       "1973    2013-06-01\n",
       "1974    2013-07-01\n",
       "1975    2013-08-01\n",
       "1976    2013-09-01\n",
       "Name: dt, Length: 1977, dtype: object"
      ]
     },
     "execution_count": 8,
     "metadata": {},
     "output_type": "execute_result"
    }
   ],
   "source": [
    "x"
   ]
  },
  {
   "cell_type": "code",
   "execution_count": 9,
   "id": "c0e4442a-1aff-46b9-a0d4-0b7023db1da3",
   "metadata": {},
   "outputs": [
    {
     "data": {
      "text/plain": [
       "0       26.704\n",
       "1       27.434\n",
       "2       28.101\n",
       "3       26.140\n",
       "4       25.427\n",
       "         ...  \n",
       "1972    27.652\n",
       "1973    26.157\n",
       "1974    24.951\n",
       "1975    24.541\n",
       "1976       NaN\n",
       "Name: AverageTemperature, Length: 1977, dtype: float64"
      ]
     },
     "execution_count": 9,
     "metadata": {},
     "output_type": "execute_result"
    }
   ],
   "source": [
    "y"
   ]
  },
  {
   "cell_type": "code",
   "execution_count": 10,
   "id": "58a6b543-2c3c-4401-8ead-0387a115685f",
   "metadata": {},
   "outputs": [
    {
     "data": {
      "text/plain": [
       "[<matplotlib.lines.Line2D at 0x7fea4aae3d90>]"
      ]
     },
     "execution_count": 10,
     "metadata": {},
     "output_type": "execute_result"
    },
    {
     "data": {
      "image/png": "[encoded data removed]",
      "text/plain": [
       "<Figure size 432x288 with 1 Axes>"
      ]
     },
     "metadata": {
      "needs_background": "light"
     },
     "output_type": "display_data"
    }
   ],
   "source": [
    "pp.plot(x,y)"
   ]
  },
  {
   "cell_type": "code",
   "execution_count": 11,
   "id": "9918112f-072e-486a-bae5-bed42af03418",
   "metadata": {},
   "outputs": [],
   "source": [
    "yr = pd.DatetimeIndex(x).year\n",
    "mo = pd.DatetimeIndex(x).month"
   ]
  },
  {
   "cell_type": "code",
   "execution_count": 12,
   "id": "ec356141-5dbc-4834-9101-330801d12ab6",
   "metadata": {},
   "outputs": [
    {
     "data": {
      "text/plain": [
       "0       26.704\n",
       "12      25.803\n",
       "24      26.789\n",
       "36         NaN\n",
       "48         NaN\n",
       "         ...  \n",
       "1920    26.912\n",
       "1932    28.270\n",
       "1944    27.360\n",
       "1956    27.317\n",
       "1968    27.751\n",
       "Name: AverageTemperature, Length: 165, dtype: float64"
      ]
     },
     "execution_count": 12,
     "metadata": {},
     "output_type": "execute_result"
    }
   ],
   "source": [
    "x[mo == 1]\n",
    "y[mo == 1]"
   ]
  },
  {
   "cell_type": "code",
   "execution_count": 13,
   "id": "8b24db5f-6d0f-420b-ad64-097997b009ef",
   "metadata": {},
   "outputs": [
    {
     "data": {
      "text/plain": [
       "[<matplotlib.lines.Line2D at 0x7fea48b30340>]"
      ]
     },
     "execution_count": 13,
     "metadata": {},
     "output_type": "execute_result"
    },
    {
     "data": {
      "image/png": "[encoded data removed]",
      "text/plain": [
       "<Figure size 432x288 with 1 Axes>"
      ]
     },
     "metadata": {
      "needs_background": "light"
     },
     "output_type": "display_data"
    }
   ],
   "source": [
    "pp.plot(x[mo == 1], y[mo == 1])"
   ]
  },
  {
   "cell_type": "code",
   "execution_count": 14,
   "id": "0953e6d3-b4c9-478a-83e7-813517966ba7",
   "metadata": {},
   "outputs": [
    {
     "data": {
      "text/plain": [
       "26.62910738255034"
      ]
     },
     "execution_count": 14,
     "metadata": {},
     "output_type": "execute_result"
    }
   ],
   "source": [
    "np.mean(y[mo == 1])"
   ]
  },
  {
   "cell_type": "code",
   "execution_count": 15,
   "id": "24c51d72-e2bd-47df-8f90-9aa695f16750",
   "metadata": {},
   "outputs": [
    {
     "data": {
      "text/plain": [
       "0       1849-01-01\n",
       "12      1850-01-01\n",
       "24      1851-01-01\n",
       "36      1852-01-01\n",
       "48      1853-01-01\n",
       "           ...    \n",
       "1920    2009-01-01\n",
       "1932    2010-01-01\n",
       "1944    2011-01-01\n",
       "1956    2012-01-01\n",
       "1968    2013-01-01\n",
       "Name: dt, Length: 165, dtype: object"
      ]
     },
     "execution_count": 15,
     "metadata": {},
     "output_type": "execute_result"
    }
   ],
   "source": [
    "x[mo==1]"
   ]
  },
  {
   "cell_type": "code",
   "execution_count": 16,
   "id": "cda7dc7e-36d5-472d-9bf6-82ed9d1f3a6a",
   "metadata": {},
   "outputs": [
    {
     "data": {
      "text/plain": [
       "Int64Index([1849, 1849, 1849, 1849, 1849, 1849, 1849, 1849, 1849, 1849,\n",
       "            ...\n",
       "            2012, 2013, 2013, 2013, 2013, 2013, 2013, 2013, 2013, 2013],\n",
       "           dtype='int64', name='dt', length=1977)"
      ]
     },
     "execution_count": 16,
     "metadata": {},
     "output_type": "execute_result"
    }
   ],
   "source": [
    "yr"
   ]
  },
  {
   "cell_type": "code",
   "execution_count": 18,
   "id": "7f5d0de5-3dff-4893-9fc7-8dbdb86583df",
   "metadata": {},
   "outputs": [
    {
     "data": {
      "text/plain": [
       "[<matplotlib.lines.Line2D at 0x7fea4451acd0>]"
      ]
     },
     "execution_count": 18,
     "metadata": {},
     "output_type": "execute_result"
    },
    {
     "data": {
      "image/png": "[encoded data removed]",
      "text/plain": [
       "<Figure size 432x288 with 1 Axes>"
      ]
     },
     "metadata": {
      "needs_background": "light"
     },
     "output_type": "display_data"
    }
   ],
   "source": [
    "pp.plot(yr[mo == 1], y[mo == 1])"
   ]
  },
  {
   "cell_type": "code",
   "execution_count": 23,
   "id": "772ca194-3127-4193-b1e4-a7a86e5ed576",
   "metadata": {},
   "outputs": [
    {
     "data": {
      "text/plain": [
       "[<matplotlib.lines.Line2D at 0x7fea42aa3700>]"
      ]
     },
     "execution_count": 23,
     "metadata": {},
     "output_type": "execute_result"
    },
    {
     "data": {
      "image/png": "[encoded data removed]",
      "text/plain": [
       "<Figure size 1152x648 with 1 Axes>"
      ]
     },
     "metadata": {
      "needs_background": "light"
     },
     "output_type": "display_data"
    }
   ],
   "source": [
    "pp.figure(figsize=(16,9))\n",
    "pp.xlabel('year')\n",
    "pp.ylabel('average temp')\n",
    "pp.title('Jan 1st temp for Abidjan')\n",
    "pp.plot(yr[mo == 1], y[mo == 1], 'b-')"
   ]
  },
  {
   "cell_type": "code",
   "execution_count": 26,
   "id": "d09e9575-77f3-4f21-84b2-0c6503ce834e",
   "metadata": {},
   "outputs": [],
   "source": [
    "datetime = data['dt']"
   ]
  },
  {
   "cell_type": "code",
   "execution_count": 30,
   "id": "5376dee7-f118-4a92-a12b-e378c17fa757",
   "metadata": {},
   "outputs": [],
   "source": [
    "years = pd.DatetimeIndex(datetime).year\n",
    "months = pd.DatetimeIndex(datetime).month"
   ]
  },
  {
   "cell_type": "code",
   "execution_count": 31,
   "id": "ba65a06b-f074-43f6-be67-3617ab695f11",
   "metadata": {},
   "outputs": [
    {
     "data": {
      "text/plain": [
       "Int64Index([1849, 1849, 1849, 1849, 1849, 1849, 1849, 1849, 1849, 1849,\n",
       "            ...\n",
       "            2012, 2013, 2013, 2013, 2013, 2013, 2013, 2013, 2013, 2013],\n",
       "           dtype='int64', name='dt', length=239177)"
      ]
     },
     "execution_count": 31,
     "metadata": {},
     "output_type": "execute_result"
    }
   ],
   "source": [
    "years"
   ]
  },
  {
   "cell_type": "code",
   "execution_count": 32,
   "id": "7a7f460c-e81b-4a0b-922a-601cd7e76408",
   "metadata": {},
   "outputs": [
    {
     "data": {
      "text/plain": [
       "Int64Index([ 1,  2,  3,  4,  5,  6,  7,  8,  9, 10,\n",
       "            ...\n",
       "            12,  1,  2,  3,  4,  5,  6,  7,  8,  9],\n",
       "           dtype='int64', name='dt', length=239177)"
      ]
     },
     "execution_count": 32,
     "metadata": {},
     "output_type": "execute_result"
    }
   ],
   "source": [
    "months"
   ]
  },
  {
   "cell_type": "code",
   "execution_count": 40,
   "id": "a5aa1d31-c08b-41cf-9cd0-8f4eb5aaf7c5",
   "metadata": {},
   "outputs": [],
   "source": [
    "byCity = data[(years == 1950) & (months == 7)]"
   ]
  },
  {
   "cell_type": "code",
   "execution_count": 41,
   "id": "dea94614-6b63-432a-8af7-ba4a4bd18c4b",
   "metadata": {},
   "outputs": [
    {
     "data": {
      "text/html": [
       "<div>\n",
       "<style scoped>\n",
       "    .dataframe tbody tr th:only-of-type {\n",
       "        vertical-align: middle;\n",
       "    }\n",
       "\n",
       "    .dataframe tbody tr th {\n",
       "        vertical-align: top;\n",
       "    }\n",
       "\n",
       "    .dataframe thead th {\n",
       "        text-align: right;\n",
       "    }\n",
       "</style>\n",
       "<table border=\"1\" class=\"dataframe\">\n",
       "  <thead>\n",
       "    <tr style=\"text-align: right;\">\n",
       "      <th></th>\n",
       "      <th>dt</th>\n",
       "      <th>AverageTemperature</th>\n",
       "      <th>AverageTemperatureUncertainty</th>\n",
       "      <th>City</th>\n",
       "      <th>Country</th>\n",
       "      <th>Latitude</th>\n",
       "      <th>Longitude</th>\n",
       "    </tr>\n",
       "  </thead>\n",
       "  <tbody>\n",
       "    <tr>\n",
       "      <th>1218</th>\n",
       "      <td>1950-07-01</td>\n",
       "      <td>24.878</td>\n",
       "      <td>0.403</td>\n",
       "      <td>Abidjan</td>\n",
       "      <td>Côte D'Ivoire</td>\n",
       "      <td>5.63N</td>\n",
       "      <td>3.23W</td>\n",
       "    </tr>\n",
       "    <tr>\n",
       "      <th>3183</th>\n",
       "      <td>1950-07-01</td>\n",
       "      <td>15.518</td>\n",
       "      <td>0.317</td>\n",
       "      <td>Addis Abeba</td>\n",
       "      <td>Ethiopia</td>\n",
       "      <td>8.84N</td>\n",
       "      <td>38.11E</td>\n",
       "    </tr>\n",
       "    <tr>\n",
       "      <th>5796</th>\n",
       "      <td>1950-07-01</td>\n",
       "      <td>27.893</td>\n",
       "      <td>0.690</td>\n",
       "      <td>Ahmadabad</td>\n",
       "      <td>India</td>\n",
       "      <td>23.31N</td>\n",
       "      <td>72.52E</td>\n",
       "    </tr>\n",
       "    <tr>\n",
       "      <th>8465</th>\n",
       "      <td>1950-07-01</td>\n",
       "      <td>28.801</td>\n",
       "      <td>0.443</td>\n",
       "      <td>Aleppo</td>\n",
       "      <td>Syria</td>\n",
       "      <td>36.17N</td>\n",
       "      <td>37.79E</td>\n",
       "    </tr>\n",
       "    <tr>\n",
       "      <th>11134</th>\n",
       "      <td>1950-07-01</td>\n",
       "      <td>26.464</td>\n",
       "      <td>0.401</td>\n",
       "      <td>Alexandria</td>\n",
       "      <td>Egypt</td>\n",
       "      <td>31.35N</td>\n",
       "      <td>30.16E</td>\n",
       "    </tr>\n",
       "    <tr>\n",
       "      <th>...</th>\n",
       "      <td>...</td>\n",
       "      <td>...</td>\n",
       "      <td>...</td>\n",
       "      <td>...</td>\n",
       "      <td>...</td>\n",
       "      <td>...</td>\n",
       "      <td>...</td>\n",
       "    </tr>\n",
       "    <tr>\n",
       "      <th>228931</th>\n",
       "      <td>1950-07-01</td>\n",
       "      <td>25.187</td>\n",
       "      <td>0.186</td>\n",
       "      <td>Tokyo</td>\n",
       "      <td>Japan</td>\n",
       "      <td>36.17N</td>\n",
       "      <td>139.23E</td>\n",
       "    </tr>\n",
       "    <tr>\n",
       "      <th>232170</th>\n",
       "      <td>1950-07-01</td>\n",
       "      <td>18.161</td>\n",
       "      <td>0.227</td>\n",
       "      <td>Toronto</td>\n",
       "      <td>Canada</td>\n",
       "      <td>44.20N</td>\n",
       "      <td>80.50W</td>\n",
       "    </tr>\n",
       "    <tr>\n",
       "      <th>234027</th>\n",
       "      <td>1950-07-01</td>\n",
       "      <td>29.596</td>\n",
       "      <td>0.434</td>\n",
       "      <td>Umm Durman</td>\n",
       "      <td>Sudan</td>\n",
       "      <td>15.27N</td>\n",
       "      <td>32.50E</td>\n",
       "    </tr>\n",
       "    <tr>\n",
       "      <th>236100</th>\n",
       "      <td>1950-07-01</td>\n",
       "      <td>29.458</td>\n",
       "      <td>0.190</td>\n",
       "      <td>Wuhan</td>\n",
       "      <td>China</td>\n",
       "      <td>29.74N</td>\n",
       "      <td>114.46E</td>\n",
       "    </tr>\n",
       "    <tr>\n",
       "      <th>238418</th>\n",
       "      <td>1950-07-01</td>\n",
       "      <td>25.632</td>\n",
       "      <td>1.130</td>\n",
       "      <td>Xian</td>\n",
       "      <td>China</td>\n",
       "      <td>34.56N</td>\n",
       "      <td>108.97E</td>\n",
       "    </tr>\n",
       "  </tbody>\n",
       "</table>\n",
       "<p>100 rows × 7 columns</p>\n",
       "</div>"
      ],
      "text/plain": [
       "                dt  AverageTemperature  AverageTemperatureUncertainty  \\\n",
       "1218    1950-07-01              24.878                          0.403   \n",
       "3183    1950-07-01              15.518                          0.317   \n",
       "5796    1950-07-01              27.893                          0.690   \n",
       "8465    1950-07-01              28.801                          0.443   \n",
       "11134   1950-07-01              26.464                          0.401   \n",
       "...            ...                 ...                            ...   \n",
       "228931  1950-07-01              25.187                          0.186   \n",
       "232170  1950-07-01              18.161                          0.227   \n",
       "234027  1950-07-01              29.596                          0.434   \n",
       "236100  1950-07-01              29.458                          0.190   \n",
       "238418  1950-07-01              25.632                          1.130   \n",
       "\n",
       "               City        Country Latitude Longitude  \n",
       "1218        Abidjan  Côte D'Ivoire    5.63N     3.23W  \n",
       "3183    Addis Abeba       Ethiopia    8.84N    38.11E  \n",
       "5796      Ahmadabad          India   23.31N    72.52E  \n",
       "8465         Aleppo          Syria   36.17N    37.79E  \n",
       "11134    Alexandria          Egypt   31.35N    30.16E  \n",
       "...             ...            ...      ...       ...  \n",
       "228931        Tokyo          Japan   36.17N   139.23E  \n",
       "232170      Toronto         Canada   44.20N    80.50W  \n",
       "234027   Umm Durman          Sudan   15.27N    32.50E  \n",
       "236100        Wuhan          China   29.74N   114.46E  \n",
       "238418         Xian          China   34.56N   108.97E  \n",
       "\n",
       "[100 rows x 7 columns]"
      ]
     },
     "execution_count": 41,
     "metadata": {},
     "output_type": "execute_result"
    }
   ],
   "source": [
    "byCity"
   ]
  },
  {
   "cell_type": "code",
   "execution_count": 42,
   "id": "f4e80b39-3502-4f87-87ab-b7b2dc8641a7",
   "metadata": {},
   "outputs": [
    {
     "data": {
      "text/plain": [
       "[<matplotlib.lines.Line2D at 0x7fea424408b0>]"
      ]
     },
     "execution_count": 42,
     "metadata": {},
     "output_type": "execute_result"
    },
    {
     "data": {
      "image/png": "[encoded data removed]",
      "text/plain": [
       "<Figure size 432x288 with 1 Axes>"
      ]
     },
     "metadata": {
      "needs_background": "light"
     },
     "output_type": "display_data"
    }
   ],
   "source": [
    "pp.plot(byCity['City'], byCity['AverageTemperature'], 'k*')"
   ]
  },
  {
   "cell_type": "code",
   "execution_count": 43,
   "id": "9618f16b-c4b0-4b6c-ba1f-702c020d45e0",
   "metadata": {},
   "outputs": [
    {
     "data": {
      "text/plain": [
       "-0.5830000000000001"
      ]
     },
     "execution_count": 43,
     "metadata": {},
     "output_type": "execute_result"
    }
   ],
   "source": [
    "np.min(byCity['AverageTemperature'])"
   ]
  },
  {
   "cell_type": "code",
   "execution_count": 45,
   "id": "a0267482-816d-4a39-baf3-353a79bbe94a",
   "metadata": {},
   "outputs": [
    {
     "data": {
      "text/plain": [
       "200003    Santiago\n",
       "Name: City, dtype: object"
      ]
     },
     "execution_count": 45,
     "metadata": {},
     "output_type": "execute_result"
    }
   ],
   "source": [
    "byCity['City'][byCity['AverageTemperature'] == np.min(byCity['AverageTemperature'])]"
   ]
  },
  {
   "cell_type": "code",
   "execution_count": 46,
   "id": "abca7e08-23ca-4cdc-b904-21659de76d9d",
   "metadata": {},
   "outputs": [
    {
     "data": {
      "text/plain": [
       "1218       5.63N\n",
       "3183       8.84N\n",
       "5796      23.31N\n",
       "8465      36.17N\n",
       "11134     31.35N\n",
       "           ...  \n",
       "228931    36.17N\n",
       "232170    44.20N\n",
       "234027    15.27N\n",
       "236100    29.74N\n",
       "238418    34.56N\n",
       "Name: Latitude, Length: 100, dtype: object"
      ]
     },
     "execution_count": 46,
     "metadata": {},
     "output_type": "execute_result"
    }
   ],
   "source": [
    "byCity['Latitude']"
   ]
  },
  {
   "cell_type": "code",
   "execution_count": 47,
   "id": "9aa6ef63-cfba-435d-b4ce-0005a32cc2b2",
   "metadata": {},
   "outputs": [],
   "source": [
    "lat = byCity['Latitude']"
   ]
  },
  {
   "cell_type": "code",
   "execution_count": 50,
   "id": "0d71b665-b1ab-4bd2-a7c2-4cce9914b605",
   "metadata": {},
   "outputs": [
    {
     "data": {
      "text/plain": [
       "array(['5.63N', '8.84N', '23.31N', '36.17N', '31.35N', '39.38N', '32.95N',\n",
       "       '12.05N', '13.66N', '20.09S', '52.24N', '4.02N', '18.48N',\n",
       "       '15.27S', '29.74N', '23.31N', '4.02N', '32.95S', '32.95N',\n",
       "       '44.20N', '31.35N', '42.59N', '29.74N', '15.27N', '39.38N',\n",
       "       '7.23S', '28.13N', '23.31N', '29.74S', '31.35N', '4.02S', '29.74N',\n",
       "       '23.31N', '18.48S', '45.81N', '10.45N', '16.87N', '7.23N',\n",
       "       '40.99N', '37.78N', '26.52N', '5.63S', '21.70N', '36.17N',\n",
       "       '34.56N', '12.05N', '26.52N', '24.92N', '50.63N', '4.02S', '5.63N',\n",
       "       '31.35N', '26.52N', '12.05S', '52.24N', '34.56N', '8.84S',\n",
       "       '13.66N', '40.99N', '15.27N', '36.17N', '37.78S', '20.09N',\n",
       "       '2.41N', '45.81N', '55.45N', '34.56N', '21.70N', '0.80S', '31.35N',\n",
       "       '28.13N', '40.99N', '49.03N', '39.38N', '18.48N', '16.87N',\n",
       "       '23.31S', '24.92N', '42.59N', '23.31S', '60.27N', '13.66S',\n",
       "       '32.95S', '18.48N', '37.78N', '31.35N', '40.99N', '0.80N', '7.23S',\n",
       "       '21.70N', '34.56S', '24.92N', '37.78N', '37.78N', '39.38N',\n",
       "       '36.17N', '44.20N', '15.27N', '29.74N', '34.56N'], dtype=object)"
      ]
     },
     "execution_count": 50,
     "metadata": {},
     "output_type": "execute_result"
    }
   ],
   "source": [
    "lat.values"
   ]
  },
  {
   "cell_type": "code",
   "execution_count": 54,
   "id": "bf80bc02-0b51-4e40-a0e8-284a13c7b3d4",
   "metadata": {},
   "outputs": [
    {
     "data": {
      "text/plain": [
       "'5.63N'"
      ]
     },
     "execution_count": 54,
     "metadata": {},
     "output_type": "execute_result"
    }
   ],
   "source": [
    "lat.values[0]"
   ]
  },
  {
   "cell_type": "code",
   "execution_count": 57,
   "id": "40cc0626-9fd7-4a06-b522-5334b1d17939",
   "metadata": {},
   "outputs": [
    {
     "data": {
      "text/plain": [
       "'5.63'"
      ]
     },
     "execution_count": 57,
     "metadata": {},
     "output_type": "execute_result"
    }
   ],
   "source": [
    "lat.values[0][0:-1]"
   ]
  },
  {
   "cell_type": "code",
   "execution_count": 58,
   "id": "1da5a449-c2fa-4fbe-ba9a-a56a27e0363f",
   "metadata": {},
   "outputs": [
    {
     "data": {
      "text/plain": [
       "'N'"
      ]
     },
     "execution_count": 58,
     "metadata": {},
     "output_type": "execute_result"
    }
   ],
   "source": [
    "lat.values[0][-1]"
   ]
  },
  {
   "cell_type": "code",
   "execution_count": 71,
   "id": "8631c7cc-ae7b-47b9-b4ea-9264a7bba835",
   "metadata": {},
   "outputs": [],
   "source": [
    "latnumber = [ float(text[0:-1]) for text in lat.values ]"
   ]
  },
  {
   "cell_type": "code",
   "execution_count": 72,
   "id": "e75612bf-f87b-44b8-800b-6a2f4216cbbf",
   "metadata": {
    "collapsed": true,
    "jupyter": {
     "outputs_hidden": true
    },
    "tags": []
   },
   "outputs": [
    {
     "data": {
      "text/plain": [
       "[5.63,\n",
       " 8.84,\n",
       " 23.31,\n",
       " 36.17,\n",
       " 31.35,\n",
       " 39.38,\n",
       " 32.95,\n",
       " 12.05,\n",
       " 13.66,\n",
       " 20.09,\n",
       " 52.24,\n",
       " 4.02,\n",
       " 18.48,\n",
       " 15.27,\n",
       " 29.74,\n",
       " 23.31,\n",
       " 4.02,\n",
       " 32.95,\n",
       " 32.95,\n",
       " 44.2,\n",
       " 31.35,\n",
       " 42.59,\n",
       " 29.74,\n",
       " 15.27,\n",
       " 39.38,\n",
       " 7.23,\n",
       " 28.13,\n",
       " 23.31,\n",
       " 29.74,\n",
       " 31.35,\n",
       " 4.02,\n",
       " 29.74,\n",
       " 23.31,\n",
       " 18.48,\n",
       " 45.81,\n",
       " 10.45,\n",
       " 16.87,\n",
       " 7.23,\n",
       " 40.99,\n",
       " 37.78,\n",
       " 26.52,\n",
       " 5.63,\n",
       " 21.7,\n",
       " 36.17,\n",
       " 34.56,\n",
       " 12.05,\n",
       " 26.52,\n",
       " 24.92,\n",
       " 50.63,\n",
       " 4.02,\n",
       " 5.63,\n",
       " 31.35,\n",
       " 26.52,\n",
       " 12.05,\n",
       " 52.24,\n",
       " 34.56,\n",
       " 8.84,\n",
       " 13.66,\n",
       " 40.99,\n",
       " 15.27,\n",
       " 36.17,\n",
       " 37.78,\n",
       " 20.09,\n",
       " 2.41,\n",
       " 45.81,\n",
       " 55.45,\n",
       " 34.56,\n",
       " 21.7,\n",
       " 0.8,\n",
       " 31.35,\n",
       " 28.13,\n",
       " 40.99,\n",
       " 49.03,\n",
       " 39.38,\n",
       " 18.48,\n",
       " 16.87,\n",
       " 23.31,\n",
       " 24.92,\n",
       " 42.59,\n",
       " 23.31,\n",
       " 60.27,\n",
       " 13.66,\n",
       " 32.95,\n",
       " 18.48,\n",
       " 37.78,\n",
       " 31.35,\n",
       " 40.99,\n",
       " 0.8,\n",
       " 7.23,\n",
       " 21.7,\n",
       " 34.56,\n",
       " 24.92,\n",
       " 37.78,\n",
       " 37.78,\n",
       " 39.38,\n",
       " 36.17,\n",
       " 44.2,\n",
       " 15.27,\n",
       " 29.74,\n",
       " 34.56]"
      ]
     },
     "execution_count": 72,
     "metadata": {},
     "output_type": "execute_result"
    }
   ],
   "source": [
    "latnumber"
   ]
  },
  {
   "cell_type": "code",
   "execution_count": 73,
   "id": "7209f1b8-be09-49b9-9843-04eb0910c83f",
   "metadata": {},
   "outputs": [],
   "source": [
    "latletter = [ text[-1] for text in lat.values ]"
   ]
  },
  {
   "cell_type": "code",
   "execution_count": 74,
   "id": "0ee86159-9e70-40b0-b547-2ff45e766f27",
   "metadata": {
    "collapsed": true,
    "jupyter": {
     "outputs_hidden": true
    },
    "tags": []
   },
   "outputs": [
    {
     "data": {
      "text/plain": [
       "['N',\n",
       " 'N',\n",
       " 'N',\n",
       " 'N',\n",
       " 'N',\n",
       " 'N',\n",
       " 'N',\n",
       " 'N',\n",
       " 'N',\n",
       " 'S',\n",
       " 'N',\n",
       " 'N',\n",
       " 'N',\n",
       " 'S',\n",
       " 'N',\n",
       " 'N',\n",
       " 'N',\n",
       " 'S',\n",
       " 'N',\n",
       " 'N',\n",
       " 'N',\n",
       " 'N',\n",
       " 'N',\n",
       " 'N',\n",
       " 'N',\n",
       " 'S',\n",
       " 'N',\n",
       " 'N',\n",
       " 'S',\n",
       " 'N',\n",
       " 'S',\n",
       " 'N',\n",
       " 'N',\n",
       " 'S',\n",
       " 'N',\n",
       " 'N',\n",
       " 'N',\n",
       " 'N',\n",
       " 'N',\n",
       " 'N',\n",
       " 'N',\n",
       " 'S',\n",
       " 'N',\n",
       " 'N',\n",
       " 'N',\n",
       " 'N',\n",
       " 'N',\n",
       " 'N',\n",
       " 'N',\n",
       " 'S',\n",
       " 'N',\n",
       " 'N',\n",
       " 'N',\n",
       " 'S',\n",
       " 'N',\n",
       " 'N',\n",
       " 'S',\n",
       " 'N',\n",
       " 'N',\n",
       " 'N',\n",
       " 'N',\n",
       " 'S',\n",
       " 'N',\n",
       " 'N',\n",
       " 'N',\n",
       " 'N',\n",
       " 'N',\n",
       " 'N',\n",
       " 'S',\n",
       " 'N',\n",
       " 'N',\n",
       " 'N',\n",
       " 'N',\n",
       " 'N',\n",
       " 'N',\n",
       " 'N',\n",
       " 'S',\n",
       " 'N',\n",
       " 'N',\n",
       " 'S',\n",
       " 'N',\n",
       " 'S',\n",
       " 'S',\n",
       " 'N',\n",
       " 'N',\n",
       " 'N',\n",
       " 'N',\n",
       " 'N',\n",
       " 'S',\n",
       " 'N',\n",
       " 'S',\n",
       " 'N',\n",
       " 'N',\n",
       " 'N',\n",
       " 'N',\n",
       " 'N',\n",
       " 'N',\n",
       " 'N',\n",
       " 'N',\n",
       " 'N']"
      ]
     },
     "execution_count": 74,
     "metadata": {},
     "output_type": "execute_result"
    }
   ],
   "source": [
    "latletter"
   ]
  },
  {
   "cell_type": "code",
   "execution_count": 77,
   "id": "ce864ea6-3d25-43c4-af24-736bcb35298a",
   "metadata": {},
   "outputs": [],
   "source": [
    "latnumber = np.zeros(len(lat.values))\n",
    "for i,text in enumerate(lat.values):\n",
    "    latnumber[i] = float(text[0:-1])\n",
    "    if text[-1] == 'S':\n",
    "        latnumber[i] *= -1"
   ]
  },
  {
   "cell_type": "code",
   "execution_count": 78,
   "id": "ad7bf3ee-15e2-4a3b-8e95-ee7d6906aba1",
   "metadata": {},
   "outputs": [
    {
     "data": {
      "text/plain": [
       "array([  5.63,   8.84,  23.31,  36.17,  31.35,  39.38,  32.95,  12.05,\n",
       "        13.66, -20.09,  52.24,   4.02,  18.48, -15.27,  29.74,  23.31,\n",
       "         4.02, -32.95,  32.95,  44.2 ,  31.35,  42.59,  29.74,  15.27,\n",
       "        39.38,  -7.23,  28.13,  23.31, -29.74,  31.35,  -4.02,  29.74,\n",
       "        23.31, -18.48,  45.81,  10.45,  16.87,   7.23,  40.99,  37.78,\n",
       "        26.52,  -5.63,  21.7 ,  36.17,  34.56,  12.05,  26.52,  24.92,\n",
       "        50.63,  -4.02,   5.63,  31.35,  26.52, -12.05,  52.24,  34.56,\n",
       "        -8.84,  13.66,  40.99,  15.27,  36.17, -37.78,  20.09,   2.41,\n",
       "        45.81,  55.45,  34.56,  21.7 ,  -0.8 ,  31.35,  28.13,  40.99,\n",
       "        49.03,  39.38,  18.48,  16.87, -23.31,  24.92,  42.59, -23.31,\n",
       "        60.27, -13.66, -32.95,  18.48,  37.78,  31.35,  40.99,   0.8 ,\n",
       "        -7.23,  21.7 , -34.56,  24.92,  37.78,  37.78,  39.38,  36.17,\n",
       "        44.2 ,  15.27,  29.74,  34.56])"
      ]
     },
     "execution_count": 78,
     "metadata": {},
     "output_type": "execute_result"
    }
   ],
   "source": [
    "latnumber"
   ]
  },
  {
   "cell_type": "code",
   "execution_count": 79,
   "id": "ddbe1007-ac10-41c5-ab8a-4faf89abf2fc",
   "metadata": {},
   "outputs": [
    {
     "data": {
      "text/plain": [
       "[<matplotlib.lines.Line2D at 0x7fea3a16daf0>]"
      ]
     },
     "execution_count": 79,
     "metadata": {},
     "output_type": "execute_result"
    },
    {
     "data": {
      "image/png": "[encoded data removed]",
      "text/plain": [
       "<Figure size 432x288 with 1 Axes>"
      ]
     },
     "metadata": {
      "needs_background": "light"
     },
     "output_type": "display_data"
    }
   ],
   "source": [
    "pp.plot(latnumber, byCity['AverageTemperature'], 'rs')"
   ]
  },
  {
   "cell_type": "code",
   "execution_count": null,
   "id": "78f0e252-8b36-4d6e-bb72-3d7a7e99cb2a",
   "metadata": {},
   "outputs": [],
   "source": []
  }
 ],
 "metadata": {
  "kernelspec": {
   "display_name": "Python 3 (ipykernel)",
   "language": "python",
   "name": "python3"
  },
  "language_info": {
   "codemirror_mode": {
    "name": "ipython",
    "version": 3
   },
   "file_extension": ".py",
   "mimetype": "text/x-python",
   "name": "python",
   "nbconvert_exporter": "python",
   "pygments_lexer": "ipython3",
   "version": "3.9.11"
  }
 },
 "nbformat": 4,
 "nbformat_minor": 5
}
